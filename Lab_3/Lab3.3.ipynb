{
  "nbformat": 4,
  "nbformat_minor": 0,
  "metadata": {
    "colab": {
      "provenance": []
    },
    "kernelspec": {
      "name": "python3",
      "display_name": "Python 3"
    },
    "language_info": {
      "name": "python"
    },
    "accelerator": "GPU",
    "gpuClass": "standard"
  },
  "cells": [
    {
      "cell_type": "code",
      "execution_count": 14,
      "metadata": {
        "id": "fPwstAub6GCo"
      },
      "outputs": [],
      "source": [
        "import matplotlib.pyplot as plt\n",
        "import numpy as np\n",
        "import pandas as pd\n",
        "import seaborn as sns\n",
        "from sklearn.preprocessing import LabelEncoder\n",
        "import tensorflow as tf\n",
        "import keras\n",
        "from sklearn.model_selection import train_test_split"
      ]
    },
    {
      "cell_type": "code",
      "source": [
        "url = 'https://www.kaggle.com/datasets/d4rklucif3r/restaurant-reviews'"
      ],
      "metadata": {
        "id": "ZOA0bBk_6MWc"
      },
      "execution_count": 2,
      "outputs": []
    },
    {
      "cell_type": "code",
      "source": [
        "Review = []\n",
        "Liked = []\n",
        "with open('Restaurant_Reviews.tsv') as f:\n",
        "  for line in f.readlines():\n",
        "    r,l = line.strip().split('\\t')\n",
        "    Review.append(r)\n",
        "    Liked.append(l)\n",
        "df = pd.DataFrame({'Review':Review[1:], 'Liked':Liked[1:]})\n",
        "df['Liked'] = df['Liked'].astype('int64')\n",
        "df"
      ],
      "metadata": {
        "colab": {
          "base_uri": "https://localhost:8080/",
          "height": 423
        },
        "id": "7CGiaNDB6pG7",
        "outputId": "9f13c086-9d39-4143-9da7-15a51be7c043"
      },
      "execution_count": 37,
      "outputs": [
        {
          "output_type": "execute_result",
          "data": {
            "text/plain": [
              "                                                Review  Liked\n",
              "0                             Wow... Loved this place.      1\n",
              "1                                   Crust is not good.      0\n",
              "2            Not tasty and the texture was just nasty.      0\n",
              "3    Stopped by during the late May bank holiday of...      1\n",
              "4    The selection on the menu was great and so wer...      1\n",
              "..                                                 ...    ...\n",
              "995  I think food should have flavor and texture an...      0\n",
              "996                           Appetite instantly gone.      0\n",
              "997  Overall I was not impressed and would not go b...      0\n",
              "998  The whole experience was underwhelming, and I ...      0\n",
              "999  Then, as if I hadn't wasted enough of my life ...      0\n",
              "\n",
              "[1000 rows x 2 columns]"
            ],
            "text/html": [
              "\n",
              "  <div id=\"df-2588ccf6-2752-4685-9a15-823f3042ccef\">\n",
              "    <div class=\"colab-df-container\">\n",
              "      <div>\n",
              "<style scoped>\n",
              "    .dataframe tbody tr th:only-of-type {\n",
              "        vertical-align: middle;\n",
              "    }\n",
              "\n",
              "    .dataframe tbody tr th {\n",
              "        vertical-align: top;\n",
              "    }\n",
              "\n",
              "    .dataframe thead th {\n",
              "        text-align: right;\n",
              "    }\n",
              "</style>\n",
              "<table border=\"1\" class=\"dataframe\">\n",
              "  <thead>\n",
              "    <tr style=\"text-align: right;\">\n",
              "      <th></th>\n",
              "      <th>Review</th>\n",
              "      <th>Liked</th>\n",
              "    </tr>\n",
              "  </thead>\n",
              "  <tbody>\n",
              "    <tr>\n",
              "      <th>0</th>\n",
              "      <td>Wow... Loved this place.</td>\n",
              "      <td>1</td>\n",
              "    </tr>\n",
              "    <tr>\n",
              "      <th>1</th>\n",
              "      <td>Crust is not good.</td>\n",
              "      <td>0</td>\n",
              "    </tr>\n",
              "    <tr>\n",
              "      <th>2</th>\n",
              "      <td>Not tasty and the texture was just nasty.</td>\n",
              "      <td>0</td>\n",
              "    </tr>\n",
              "    <tr>\n",
              "      <th>3</th>\n",
              "      <td>Stopped by during the late May bank holiday of...</td>\n",
              "      <td>1</td>\n",
              "    </tr>\n",
              "    <tr>\n",
              "      <th>4</th>\n",
              "      <td>The selection on the menu was great and so wer...</td>\n",
              "      <td>1</td>\n",
              "    </tr>\n",
              "    <tr>\n",
              "      <th>...</th>\n",
              "      <td>...</td>\n",
              "      <td>...</td>\n",
              "    </tr>\n",
              "    <tr>\n",
              "      <th>995</th>\n",
              "      <td>I think food should have flavor and texture an...</td>\n",
              "      <td>0</td>\n",
              "    </tr>\n",
              "    <tr>\n",
              "      <th>996</th>\n",
              "      <td>Appetite instantly gone.</td>\n",
              "      <td>0</td>\n",
              "    </tr>\n",
              "    <tr>\n",
              "      <th>997</th>\n",
              "      <td>Overall I was not impressed and would not go b...</td>\n",
              "      <td>0</td>\n",
              "    </tr>\n",
              "    <tr>\n",
              "      <th>998</th>\n",
              "      <td>The whole experience was underwhelming, and I ...</td>\n",
              "      <td>0</td>\n",
              "    </tr>\n",
              "    <tr>\n",
              "      <th>999</th>\n",
              "      <td>Then, as if I hadn't wasted enough of my life ...</td>\n",
              "      <td>0</td>\n",
              "    </tr>\n",
              "  </tbody>\n",
              "</table>\n",
              "<p>1000 rows × 2 columns</p>\n",
              "</div>\n",
              "      <button class=\"colab-df-convert\" onclick=\"convertToInteractive('df-2588ccf6-2752-4685-9a15-823f3042ccef')\"\n",
              "              title=\"Convert this dataframe to an interactive table.\"\n",
              "              style=\"display:none;\">\n",
              "        \n",
              "  <svg xmlns=\"http://www.w3.org/2000/svg\" height=\"24px\"viewBox=\"0 0 24 24\"\n",
              "       width=\"24px\">\n",
              "    <path d=\"M0 0h24v24H0V0z\" fill=\"none\"/>\n",
              "    <path d=\"M18.56 5.44l.94 2.06.94-2.06 2.06-.94-2.06-.94-.94-2.06-.94 2.06-2.06.94zm-11 1L8.5 8.5l.94-2.06 2.06-.94-2.06-.94L8.5 2.5l-.94 2.06-2.06.94zm10 10l.94 2.06.94-2.06 2.06-.94-2.06-.94-.94-2.06-.94 2.06-2.06.94z\"/><path d=\"M17.41 7.96l-1.37-1.37c-.4-.4-.92-.59-1.43-.59-.52 0-1.04.2-1.43.59L10.3 9.45l-7.72 7.72c-.78.78-.78 2.05 0 2.83L4 21.41c.39.39.9.59 1.41.59.51 0 1.02-.2 1.41-.59l7.78-7.78 2.81-2.81c.8-.78.8-2.07 0-2.86zM5.41 20L4 18.59l7.72-7.72 1.47 1.35L5.41 20z\"/>\n",
              "  </svg>\n",
              "      </button>\n",
              "      \n",
              "  <style>\n",
              "    .colab-df-container {\n",
              "      display:flex;\n",
              "      flex-wrap:wrap;\n",
              "      gap: 12px;\n",
              "    }\n",
              "\n",
              "    .colab-df-convert {\n",
              "      background-color: #E8F0FE;\n",
              "      border: none;\n",
              "      border-radius: 50%;\n",
              "      cursor: pointer;\n",
              "      display: none;\n",
              "      fill: #1967D2;\n",
              "      height: 32px;\n",
              "      padding: 0 0 0 0;\n",
              "      width: 32px;\n",
              "    }\n",
              "\n",
              "    .colab-df-convert:hover {\n",
              "      background-color: #E2EBFA;\n",
              "      box-shadow: 0px 1px 2px rgba(60, 64, 67, 0.3), 0px 1px 3px 1px rgba(60, 64, 67, 0.15);\n",
              "      fill: #174EA6;\n",
              "    }\n",
              "\n",
              "    [theme=dark] .colab-df-convert {\n",
              "      background-color: #3B4455;\n",
              "      fill: #D2E3FC;\n",
              "    }\n",
              "\n",
              "    [theme=dark] .colab-df-convert:hover {\n",
              "      background-color: #434B5C;\n",
              "      box-shadow: 0px 1px 3px 1px rgba(0, 0, 0, 0.15);\n",
              "      filter: drop-shadow(0px 1px 2px rgba(0, 0, 0, 0.3));\n",
              "      fill: #FFFFFF;\n",
              "    }\n",
              "  </style>\n",
              "\n",
              "      <script>\n",
              "        const buttonEl =\n",
              "          document.querySelector('#df-2588ccf6-2752-4685-9a15-823f3042ccef button.colab-df-convert');\n",
              "        buttonEl.style.display =\n",
              "          google.colab.kernel.accessAllowed ? 'block' : 'none';\n",
              "\n",
              "        async function convertToInteractive(key) {\n",
              "          const element = document.querySelector('#df-2588ccf6-2752-4685-9a15-823f3042ccef');\n",
              "          const dataTable =\n",
              "            await google.colab.kernel.invokeFunction('convertToInteractive',\n",
              "                                                     [key], {});\n",
              "          if (!dataTable) return;\n",
              "\n",
              "          const docLinkHtml = 'Like what you see? Visit the ' +\n",
              "            '<a target=\"_blank\" href=https://colab.research.google.com/notebooks/data_table.ipynb>data table notebook</a>'\n",
              "            + ' to learn more about interactive tables.';\n",
              "          element.innerHTML = '';\n",
              "          dataTable['output_type'] = 'display_data';\n",
              "          await google.colab.output.renderOutput(dataTable, element);\n",
              "          const docLink = document.createElement('div');\n",
              "          docLink.innerHTML = docLinkHtml;\n",
              "          element.appendChild(docLink);\n",
              "        }\n",
              "      </script>\n",
              "    </div>\n",
              "  </div>\n",
              "  "
            ]
          },
          "metadata": {},
          "execution_count": 37
        }
      ]
    },
    {
      "cell_type": "code",
      "source": [
        "x = df['Review']\n",
        "y = df['Liked']\n",
        "x_train, x_test, y_train, y_test = train_test_split(x, y, train_size=0.8)\n",
        "train = tf.data.Dataset.from_tensor_slices((x_train, y_train))\n",
        "test = tf.data.Dataset.from_tensor_slices((x_test, y_test))\n",
        "train = train.batch(64).prefetch(tf.data.AUTOTUNE)\n",
        "test = test.batch(64).prefetch(tf.data.AUTOTUNE)"
      ],
      "metadata": {
        "id": "kHtlyvix7War"
      },
      "execution_count": 38,
      "outputs": []
    },
    {
      "cell_type": "code",
      "source": [
        "vectorizer = keras.layers.TextVectorization(max_tokens=1000)\n",
        "vectorizer.adapt(train.map(lambda review, label: review))\n",
        "model = keras.Sequential([\n",
        "    vectorizer,\n",
        "    keras.layers.Embedding(input_dim=len(vectorizer.get_vocabulary()), output_dim=64, mask_zero=True),\n",
        "    keras.layers.Bidirectional(keras.layers.LSTM(64)),\n",
        "    keras.layers.Dense(64, activation='relu'),\n",
        "    keras.layers.Dense(1, activation='sigmoid')\n",
        "])\n",
        "model.compile(loss='binary_crossentropy',optimizer='adam',metrics=['accuracy'])"
      ],
      "metadata": {
        "id": "hwdc9i1r9ATL"
      },
      "execution_count": 39,
      "outputs": []
    },
    {
      "cell_type": "code",
      "source": [
        "model.fit(train, epochs=32, validation_data=test)"
      ],
      "metadata": {
        "colab": {
          "base_uri": "https://localhost:8080/"
        },
        "id": "PPM_yQ0h9btc",
        "outputId": "48cacb45-6a80-460e-f9fa-6b24c0fb60cf"
      },
      "execution_count": 40,
      "outputs": [
        {
          "output_type": "stream",
          "name": "stdout",
          "text": [
            "Epoch 1/32\n",
            "13/13 [==============================] - 15s 233ms/step - loss: 0.6921 - accuracy: 0.5275 - val_loss: 0.6899 - val_accuracy: 0.5750\n",
            "Epoch 2/32\n",
            "13/13 [==============================] - 0s 14ms/step - loss: 0.6768 - accuracy: 0.6662 - val_loss: 0.6619 - val_accuracy: 0.7000\n",
            "Epoch 3/32\n",
            "13/13 [==============================] - 0s 15ms/step - loss: 0.5781 - accuracy: 0.8087 - val_loss: 0.5105 - val_accuracy: 0.7900\n",
            "Epoch 4/32\n",
            "13/13 [==============================] - 0s 15ms/step - loss: 0.3564 - accuracy: 0.8825 - val_loss: 0.5223 - val_accuracy: 0.8000\n",
            "Epoch 5/32\n",
            "13/13 [==============================] - 0s 15ms/step - loss: 0.2358 - accuracy: 0.9250 - val_loss: 0.4845 - val_accuracy: 0.8050\n",
            "Epoch 6/32\n",
            "13/13 [==============================] - 0s 15ms/step - loss: 0.2442 - accuracy: 0.9237 - val_loss: 0.4888 - val_accuracy: 0.8300\n",
            "Epoch 7/32\n",
            "13/13 [==============================] - 0s 15ms/step - loss: 0.1668 - accuracy: 0.9425 - val_loss: 0.3899 - val_accuracy: 0.8400\n",
            "Epoch 8/32\n",
            "13/13 [==============================] - 0s 15ms/step - loss: 0.0867 - accuracy: 0.9825 - val_loss: 0.4552 - val_accuracy: 0.8300\n",
            "Epoch 9/32\n",
            "13/13 [==============================] - 0s 16ms/step - loss: 0.0583 - accuracy: 0.9887 - val_loss: 0.5323 - val_accuracy: 0.8250\n",
            "Epoch 10/32\n",
            "13/13 [==============================] - 0s 15ms/step - loss: 0.0394 - accuracy: 0.9925 - val_loss: 0.5894 - val_accuracy: 0.8350\n",
            "Epoch 11/32\n",
            "13/13 [==============================] - 0s 15ms/step - loss: 0.0285 - accuracy: 0.9925 - val_loss: 0.6659 - val_accuracy: 0.8200\n",
            "Epoch 12/32\n",
            "13/13 [==============================] - 0s 16ms/step - loss: 0.0211 - accuracy: 0.9962 - val_loss: 0.7398 - val_accuracy: 0.8150\n",
            "Epoch 13/32\n",
            "13/13 [==============================] - 0s 16ms/step - loss: 0.0155 - accuracy: 0.9987 - val_loss: 0.8068 - val_accuracy: 0.8150\n",
            "Epoch 14/32\n",
            "13/13 [==============================] - 0s 16ms/step - loss: 0.0121 - accuracy: 0.9987 - val_loss: 0.8721 - val_accuracy: 0.8050\n",
            "Epoch 15/32\n",
            "13/13 [==============================] - 0s 16ms/step - loss: 0.0206 - accuracy: 0.9975 - val_loss: 0.8265 - val_accuracy: 0.8250\n",
            "Epoch 16/32\n",
            "13/13 [==============================] - 0s 15ms/step - loss: 0.0248 - accuracy: 0.9925 - val_loss: 0.8244 - val_accuracy: 0.8000\n",
            "Epoch 17/32\n",
            "13/13 [==============================] - 0s 14ms/step - loss: 0.0237 - accuracy: 0.9925 - val_loss: 0.7784 - val_accuracy: 0.8200\n",
            "Epoch 18/32\n",
            "13/13 [==============================] - 0s 15ms/step - loss: 0.0115 - accuracy: 0.9975 - val_loss: 0.8601 - val_accuracy: 0.8100\n",
            "Epoch 19/32\n",
            "13/13 [==============================] - 0s 16ms/step - loss: 0.0087 - accuracy: 1.0000 - val_loss: 0.8899 - val_accuracy: 0.8200\n",
            "Epoch 20/32\n",
            "13/13 [==============================] - 0s 16ms/step - loss: 0.0066 - accuracy: 1.0000 - val_loss: 0.9381 - val_accuracy: 0.8150\n",
            "Epoch 21/32\n",
            "13/13 [==============================] - 0s 16ms/step - loss: 0.0052 - accuracy: 1.0000 - val_loss: 0.9892 - val_accuracy: 0.8150\n",
            "Epoch 22/32\n",
            "13/13 [==============================] - 0s 17ms/step - loss: 0.0044 - accuracy: 1.0000 - val_loss: 1.0338 - val_accuracy: 0.8150\n",
            "Epoch 23/32\n",
            "13/13 [==============================] - 0s 14ms/step - loss: 0.0037 - accuracy: 1.0000 - val_loss: 1.0722 - val_accuracy: 0.8150\n",
            "Epoch 24/32\n",
            "13/13 [==============================] - 0s 17ms/step - loss: 0.0033 - accuracy: 1.0000 - val_loss: 1.1070 - val_accuracy: 0.8150\n",
            "Epoch 25/32\n",
            "13/13 [==============================] - 0s 16ms/step - loss: 0.0029 - accuracy: 1.0000 - val_loss: 1.1399 - val_accuracy: 0.8150\n",
            "Epoch 26/32\n",
            "13/13 [==============================] - 0s 15ms/step - loss: 0.0026 - accuracy: 1.0000 - val_loss: 1.1715 - val_accuracy: 0.8150\n",
            "Epoch 27/32\n",
            "13/13 [==============================] - 0s 15ms/step - loss: 0.0023 - accuracy: 1.0000 - val_loss: 1.2023 - val_accuracy: 0.8200\n",
            "Epoch 28/32\n",
            "13/13 [==============================] - 0s 16ms/step - loss: 0.0021 - accuracy: 1.0000 - val_loss: 1.2325 - val_accuracy: 0.8150\n",
            "Epoch 29/32\n",
            "13/13 [==============================] - 0s 15ms/step - loss: 0.0019 - accuracy: 1.0000 - val_loss: 1.2618 - val_accuracy: 0.8150\n",
            "Epoch 30/32\n",
            "13/13 [==============================] - 0s 15ms/step - loss: 0.0018 - accuracy: 1.0000 - val_loss: 1.2900 - val_accuracy: 0.8150\n",
            "Epoch 31/32\n",
            "13/13 [==============================] - 0s 16ms/step - loss: 0.0016 - accuracy: 1.0000 - val_loss: 1.3172 - val_accuracy: 0.8150\n",
            "Epoch 32/32\n",
            "13/13 [==============================] - 0s 16ms/step - loss: 0.0015 - accuracy: 1.0000 - val_loss: 1.3435 - val_accuracy: 0.8150\n"
          ]
        },
        {
          "output_type": "execute_result",
          "data": {
            "text/plain": [
              "<keras.callbacks.History at 0x7f1dea663250>"
            ]
          },
          "metadata": {},
          "execution_count": 40
        }
      ]
    },
    {
      "cell_type": "code",
      "source": [
        "model.evaluate(test)"
      ],
      "metadata": {
        "colab": {
          "base_uri": "https://localhost:8080/"
        },
        "id": "x7PjiX3i9AXK",
        "outputId": "98cfb0bf-68ce-49d2-d16a-f49f7e1bada7"
      },
      "execution_count": 41,
      "outputs": [
        {
          "output_type": "stream",
          "name": "stdout",
          "text": [
            "4/4 [==============================] - 0s 11ms/step - loss: 1.3435 - accuracy: 0.8150\n"
          ]
        },
        {
          "output_type": "execute_result",
          "data": {
            "text/plain": [
              "[1.3434916734695435, 0.8149999976158142]"
            ]
          },
          "metadata": {},
          "execution_count": 41
        }
      ]
    }
  ]
}