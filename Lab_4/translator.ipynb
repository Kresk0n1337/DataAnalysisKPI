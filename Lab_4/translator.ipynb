{
  "nbformat": 4,
  "nbformat_minor": 0,
  "metadata": {
    "colab": {
      "provenance": []
    },
    "kernelspec": {
      "name": "python3",
      "display_name": "Python 3"
    },
    "language_info": {
      "name": "python"
    },
    "accelerator": "GPU",
    "gpuClass": "standard"
  },
  "cells": [
    {
      "cell_type": "code",
      "execution_count": 1,
      "metadata": {
        "id": "ZZ57AyOgoqz1"
      },
      "outputs": [],
      "source": [
        "import pathlib\n",
        "import random\n",
        "import string\n",
        "import re\n",
        "import numpy as np\n",
        "import tensorflow as tf\n",
        "from tensorflow import keras\n",
        "from tensorflow.keras import layers\n",
        "from tensorflow.keras.layers import TextVectorization"
      ]
    },
    {
      "cell_type": "code",
      "source": [
        "pairs = []\n",
        "with open('fra.txt') as f:\n",
        "  for line in f.readlines():\n",
        "    eng, fra, _ = line.split('\\t')\n",
        "    pairs.append((eng, '[start] '+fra+' [eng]'))\n",
        "     "
      ],
      "metadata": {
        "id": "rb5G0uAJpZJo"
      },
      "execution_count": 4,
      "outputs": []
    },
    {
      "cell_type": "code",
      "source": [
        "for _ in range(5):\n",
        "    print(random.choice(pairs))"
      ],
      "metadata": {
        "colab": {
          "base_uri": "https://localhost:8080/"
        },
        "id": "Ndhji2nJqgkA",
        "outputId": "63db6308-4251-4cb0-e2e2-cae97b48d53c"
      },
      "execution_count": 6,
      "outputs": [
        {
          "output_type": "stream",
          "name": "stdout",
          "text": [
            "('Tom is playing with his son.', '[start] Tom est en train de jouer avec son fils. [eng]')\n",
            "(\"You should've told Tom that a long time ago.\", '[start] Vous auriez dû dire cela à Tom il y a longtemps. [eng]')\n",
            "(\"Why don't we ask his advice?\", '[start] Pourquoi ne lui demandons-nous pas conseil ? [eng]')\n",
            "('Everything will change.', '[start] Tout sera différent. [eng]')\n",
            "(\"I've just read this book.\", '[start] Je viens juste de lire ce livre. [eng]')\n"
          ]
        }
      ]
    },
    {
      "cell_type": "code",
      "source": [
        "random.shuffle(pairs)\n",
        "num_val_samples = int(0.15 * len(pairs))\n",
        "num_train_samples = len(pairs) - 2 * num_val_samples\n",
        "train_pairs = pairs[:num_train_samples]\n",
        "val_pairs = pairs[num_train_samples : num_train_samples + num_val_samples]\n",
        "test_pairs = pairs[num_train_samples + num_val_samples :]\n",
        "\n",
        "print(f\"{len(pairs)} total pairs\")\n",
        "print(f\"{len(train_pairs)} training pairs\")\n",
        "print(f\"{len(val_pairs)} validation pairs\")\n",
        "print(f\"{len(test_pairs)} test pairs\")"
      ],
      "metadata": {
        "colab": {
          "base_uri": "https://localhost:8080/"
        },
        "id": "XkqNjpyKqjjI",
        "outputId": "7b6cd9ce-9cce-4f16-f0d2-24ec4cc72d7b"
      },
      "execution_count": 7,
      "outputs": [
        {
          "output_type": "stream",
          "name": "stdout",
          "text": [
            "197463 total pairs\n",
            "138225 training pairs\n",
            "29619 validation pairs\n",
            "29619 test pairs\n"
          ]
        }
      ]
    },
    {
      "cell_type": "code",
      "source": [
        "strip_chars = string.punctuation + \"¿…™\"\n",
        "strip_chars = strip_chars.replace(\"[\", \"\")\n",
        "strip_chars = strip_chars.replace(\"]\", \"\")\n",
        "\n",
        "vocab_size = 15000\n",
        "sequence_length = 20\n",
        "batch_size = 64\n",
        "\n",
        "\n",
        "def custom_standardization(input_string):\n",
        "    lowercase = tf.strings.lower(input_string)\n",
        "    return tf.strings.regex_replace(lowercase, \"[%s]\" % re.escape(strip_chars), \"\")\n",
        "\n",
        "\n",
        "eng_vectorization = TextVectorization(\n",
        "    max_tokens=vocab_size, output_mode=\"int\", output_sequence_length=sequence_length,\n",
        ")\n",
        "fra_vectorization = TextVectorization(\n",
        "    max_tokens=vocab_size,\n",
        "    output_mode=\"int\",\n",
        "    output_sequence_length=sequence_length + 1,\n",
        "    standardize=custom_standardization,\n",
        ")\n",
        "train_eng_texts = [pair[0] for pair in train_pairs]\n",
        "train_fra_texts = [pair[1] for pair in train_pairs]\n",
        "eng_vectorization.adapt(train_eng_texts)\n",
        "fra_vectorization.adapt(train_fra_texts)"
      ],
      "metadata": {
        "id": "35fy151sqt6R"
      },
      "execution_count": 9,
      "outputs": []
    },
    {
      "cell_type": "code",
      "source": [
        "def format_dataset(eng, fra):\n",
        "    eng = eng_vectorization(eng)\n",
        "    fra = fra_vectorization(fra)\n",
        "    return ({\"encoder_inputs\": eng, \"decoder_inputs\": fra[:, :-1],}, fra[:, 1:])\n",
        "\n",
        "\n",
        "def make_dataset(pairs):\n",
        "    eng_texts, pol_texts = zip(*pairs)\n",
        "    eng_texts = list(eng_texts)\n",
        "    pol_texts = list(pol_texts)\n",
        "    dataset = tf.data.Dataset.from_tensor_slices((eng_texts, pol_texts))\n",
        "    dataset = dataset.batch(batch_size)\n",
        "    dataset = dataset.map(format_dataset)\n",
        "    return dataset.shuffle(2048).prefetch(16).cache()\n",
        "\n",
        "\n",
        "train_ds = make_dataset(train_pairs)\n",
        "val_ds = make_dataset(val_pairs)"
      ],
      "metadata": {
        "id": "KWguUgxxr94P"
      },
      "execution_count": 10,
      "outputs": []
    },
    {
      "cell_type": "code",
      "source": [
        "for inputs, targets in train_ds.take(1):\n",
        "    print(f'inputs[\"encoder_inputs\"].shape: {inputs[\"encoder_inputs\"].shape}')\n",
        "    print(f'inputs[\"decoder_inputs\"].shape: {inputs[\"decoder_inputs\"].shape}')\n",
        "    print(f\"targets.shape: {targets.shape}\")"
      ],
      "metadata": {
        "colab": {
          "base_uri": "https://localhost:8080/"
        },
        "id": "4TznL4_KsRP3",
        "outputId": "1d7d60f8-09de-435e-b4b2-8538512580d9"
      },
      "execution_count": 11,
      "outputs": [
        {
          "output_type": "stream",
          "name": "stdout",
          "text": [
            "inputs[\"encoder_inputs\"].shape: (64, 20)\n",
            "inputs[\"decoder_inputs\"].shape: (64, 20)\n",
            "targets.shape: (64, 20)\n"
          ]
        }
      ]
    },
    {
      "cell_type": "code",
      "source": [
        "class TransformerEncoder(layers.Layer):\n",
        "    def __init__(self, embed_dim, dense_dim, num_heads, **kwargs):\n",
        "        super().__init__(**kwargs)\n",
        "        self.embed_dim = embed_dim\n",
        "        self.dense_dim = dense_dim\n",
        "        self.num_heads = num_heads\n",
        "        self.attention = layers.MultiHeadAttention(\n",
        "            num_heads=num_heads, key_dim=embed_dim\n",
        "        )\n",
        "        self.dense_proj = keras.Sequential(\n",
        "            [layers.Dense(dense_dim, activation=\"relu\"), layers.Dense(embed_dim),]\n",
        "        )\n",
        "        self.layernorm_1 = layers.LayerNormalization()\n",
        "        self.layernorm_2 = layers.LayerNormalization()\n",
        "        self.supports_masking = True\n",
        "\n",
        "    def call(self, inputs, mask=None):\n",
        "        if mask is not None:\n",
        "            padding_mask = tf.cast(mask[:, tf.newaxis, tf.newaxis, :], dtype=\"int32\")\n",
        "        attention_output = self.attention(\n",
        "            query=inputs, value=inputs, key=inputs, attention_mask=padding_mask\n",
        "        )\n",
        "        proj_input = self.layernorm_1(inputs + attention_output)\n",
        "        proj_output = self.dense_proj(proj_input)\n",
        "        return self.layernorm_2(proj_input + proj_output)\n",
        "\n",
        "\n",
        "class PositionalEmbedding(layers.Layer):\n",
        "    def __init__(self, sequence_length, vocab_size, embed_dim, **kwargs):\n",
        "        super().__init__(**kwargs)\n",
        "        self.token_embeddings = layers.Embedding(\n",
        "            input_dim=vocab_size, output_dim=embed_dim\n",
        "        )\n",
        "        self.position_embeddings = layers.Embedding(\n",
        "            input_dim=sequence_length, output_dim=embed_dim\n",
        "        )\n",
        "        self.sequence_length = sequence_length\n",
        "        self.vocab_size = vocab_size\n",
        "        self.embed_dim = embed_dim\n",
        "\n",
        "    def call(self, inputs):\n",
        "        length = tf.shape(inputs)[-1]\n",
        "        positions = tf.range(start=0, limit=length, delta=1)\n",
        "        embedded_tokens = self.token_embeddings(inputs)\n",
        "        embedded_positions = self.position_embeddings(positions)\n",
        "        return embedded_tokens + embedded_positions\n",
        "\n",
        "    def compute_mask(self, inputs, mask=None):\n",
        "        return tf.math.not_equal(inputs, 0)\n",
        "\n",
        "\n",
        "class TransformerDecoder(layers.Layer):\n",
        "    def __init__(self, embed_dim, latent_dim, num_heads, **kwargs):\n",
        "        super().__init__(**kwargs)\n",
        "        self.embed_dim = embed_dim\n",
        "        self.latent_dim = latent_dim\n",
        "        self.num_heads = num_heads\n",
        "        self.attention_1 = layers.MultiHeadAttention(\n",
        "            num_heads=num_heads, key_dim=embed_dim\n",
        "        )\n",
        "        self.attention_2 = layers.MultiHeadAttention(\n",
        "            num_heads=num_heads, key_dim=embed_dim\n",
        "        )\n",
        "        self.dense_proj = keras.Sequential(\n",
        "            [layers.Dense(latent_dim, activation=\"relu\"), layers.Dense(embed_dim),]\n",
        "        )\n",
        "        self.layernorm_1 = layers.LayerNormalization()\n",
        "        self.layernorm_2 = layers.LayerNormalization()\n",
        "        self.layernorm_3 = layers.LayerNormalization()\n",
        "        self.supports_masking = True\n",
        "\n",
        "    def call(self, inputs, encoder_outputs, mask=None):\n",
        "        causal_mask = self.get_causal_attention_mask(inputs)\n",
        "        if mask is not None:\n",
        "            padding_mask = tf.cast(mask[:, tf.newaxis, :], dtype=\"int32\")\n",
        "            padding_mask = tf.minimum(padding_mask, causal_mask)\n",
        "\n",
        "        attention_output_1 = self.attention_1(\n",
        "            query=inputs, value=inputs, key=inputs, attention_mask=causal_mask\n",
        "        )\n",
        "        out_1 = self.layernorm_1(inputs + attention_output_1)\n",
        "\n",
        "        attention_output_2 = self.attention_2(\n",
        "            query=out_1,\n",
        "            value=encoder_outputs,\n",
        "            key=encoder_outputs,\n",
        "            attention_mask=padding_mask,\n",
        "        )\n",
        "        out_2 = self.layernorm_2(out_1 + attention_output_2)\n",
        "\n",
        "        proj_output = self.dense_proj(out_2)\n",
        "        return self.layernorm_3(out_2 + proj_output)\n",
        "\n",
        "    def get_causal_attention_mask(self, inputs):\n",
        "        input_shape = tf.shape(inputs)\n",
        "        batch_size, sequence_length = input_shape[0], input_shape[1]\n",
        "        i = tf.range(sequence_length)[:, tf.newaxis]\n",
        "        j = tf.range(sequence_length)\n",
        "        mask = tf.cast(i >= j, dtype=\"int32\")\n",
        "        mask = tf.reshape(mask, (1, input_shape[1], input_shape[1]))\n",
        "        mult = tf.concat(\n",
        "            [tf.expand_dims(batch_size, -1), tf.constant([1, 1], dtype=tf.int32)],\n",
        "            axis=0,\n",
        "        )\n",
        "        return tf.tile(mask, mult)"
      ],
      "metadata": {
        "id": "QU8K0973sT0S"
      },
      "execution_count": 12,
      "outputs": []
    },
    {
      "cell_type": "code",
      "source": [
        "embed_dim = 256\n",
        "latent_dim = 2048\n",
        "num_heads = 8\n",
        "\n",
        "encoder_inputs = keras.Input(shape=(None,), dtype=\"int64\", name=\"encoder_inputs\")\n",
        "x = PositionalEmbedding(sequence_length, vocab_size, embed_dim)(encoder_inputs)\n",
        "encoder_outputs = TransformerEncoder(embed_dim, latent_dim, num_heads)(x)\n",
        "encoder = keras.Model(encoder_inputs, encoder_outputs)\n",
        "\n",
        "decoder_inputs = keras.Input(shape=(None,), dtype=\"int64\", name=\"decoder_inputs\")\n",
        "encoded_seq_inputs = keras.Input(shape=(None, embed_dim), name=\"decoder_state_inputs\")\n",
        "x = PositionalEmbedding(sequence_length, vocab_size, embed_dim)(decoder_inputs)\n",
        "x = TransformerDecoder(embed_dim, latent_dim, num_heads)(x, encoded_seq_inputs)\n",
        "x = layers.Dropout(0.5)(x)\n",
        "decoder_outputs = layers.Dense(vocab_size, activation=\"softmax\")(x)\n",
        "decoder = keras.Model([decoder_inputs, encoded_seq_inputs], decoder_outputs)\n",
        "\n",
        "decoder_outputs = decoder([decoder_inputs, encoder_outputs])\n",
        "transformer = keras.Model(\n",
        "    [encoder_inputs, decoder_inputs], decoder_outputs, name=\"transformer\"\n",
        ")"
      ],
      "metadata": {
        "id": "hLRcxiwtsVqo"
      },
      "execution_count": 13,
      "outputs": []
    },
    {
      "cell_type": "code",
      "source": [
        "epochs = 30  # This should be at least 30 for convergence\n",
        "\n",
        "transformer.summary()\n",
        "transformer.compile(\n",
        "    \"rmsprop\", loss=\"sparse_categorical_crossentropy\", metrics=[\"accuracy\"]\n",
        ")\n",
        "transformer.fit(train_ds, epochs=epochs, validation_data=val_ds)"
      ],
      "metadata": {
        "colab": {
          "base_uri": "https://localhost:8080/"
        },
        "id": "EbMT_ZTxsZPn",
        "outputId": "89cf8722-dc46-4467-8912-5e86f3b2268c"
      },
      "execution_count": 14,
      "outputs": [
        {
          "output_type": "stream",
          "name": "stdout",
          "text": [
            "Model: \"transformer\"\n",
            "__________________________________________________________________________________________________\n",
            " Layer (type)                   Output Shape         Param #     Connected to                     \n",
            "==================================================================================================\n",
            " encoder_inputs (InputLayer)    [(None, None)]       0           []                               \n",
            "                                                                                                  \n",
            " positional_embedding (Position  (None, None, 256)   3845120     ['encoder_inputs[0][0]']         \n",
            " alEmbedding)                                                                                     \n",
            "                                                                                                  \n",
            " decoder_inputs (InputLayer)    [(None, None)]       0           []                               \n",
            "                                                                                                  \n",
            " transformer_encoder (Transform  (None, None, 256)   3155456     ['positional_embedding[0][0]']   \n",
            " erEncoder)                                                                                       \n",
            "                                                                                                  \n",
            " model_1 (Functional)           (None, None, 15000)  12959640    ['decoder_inputs[0][0]',         \n",
            "                                                                  'transformer_encoder[0][0]']    \n",
            "                                                                                                  \n",
            "==================================================================================================\n",
            "Total params: 19,960,216\n",
            "Trainable params: 19,960,216\n",
            "Non-trainable params: 0\n",
            "__________________________________________________________________________________________________\n",
            "Epoch 1/30\n",
            "2160/2160 [==============================] - 159s 70ms/step - loss: 1.5067 - accuracy: 0.4887 - val_loss: 1.1622 - val_accuracy: 0.5806\n",
            "Epoch 2/30\n",
            "2160/2160 [==============================] - 147s 68ms/step - loss: 1.1752 - accuracy: 0.5931 - val_loss: 1.0408 - val_accuracy: 0.6245\n",
            "Epoch 3/30\n",
            "2160/2160 [==============================] - 146s 68ms/step - loss: 1.0618 - accuracy: 0.6316 - val_loss: 0.9886 - val_accuracy: 0.6480\n",
            "Epoch 4/30\n",
            "2160/2160 [==============================] - 147s 68ms/step - loss: 1.0190 - accuracy: 0.6535 - val_loss: 0.9696 - val_accuracy: 0.6595\n",
            "Epoch 5/30\n",
            "2160/2160 [==============================] - 147s 68ms/step - loss: 0.9944 - accuracy: 0.6687 - val_loss: 0.9553 - val_accuracy: 0.6703\n",
            "Epoch 6/30\n",
            "2160/2160 [==============================] - 146s 68ms/step - loss: 0.9745 - accuracy: 0.6806 - val_loss: 0.9465 - val_accuracy: 0.6752\n",
            "Epoch 7/30\n",
            "2160/2160 [==============================] - 146s 68ms/step - loss: 0.9570 - accuracy: 0.6903 - val_loss: 0.9433 - val_accuracy: 0.6778\n",
            "Epoch 8/30\n",
            "2160/2160 [==============================] - 146s 68ms/step - loss: 0.9397 - accuracy: 0.6984 - val_loss: 0.9369 - val_accuracy: 0.6837\n",
            "Epoch 9/30\n",
            "2160/2160 [==============================] - 146s 68ms/step - loss: 0.9243 - accuracy: 0.7057 - val_loss: 0.9322 - val_accuracy: 0.6880\n",
            "Epoch 10/30\n",
            "2160/2160 [==============================] - 146s 68ms/step - loss: 0.9105 - accuracy: 0.7123 - val_loss: 0.9277 - val_accuracy: 0.6876\n",
            "Epoch 11/30\n",
            "2160/2160 [==============================] - 147s 68ms/step - loss: 0.8956 - accuracy: 0.7184 - val_loss: 0.9288 - val_accuracy: 0.6903\n",
            "Epoch 12/30\n",
            "2160/2160 [==============================] - 147s 68ms/step - loss: 0.8817 - accuracy: 0.7240 - val_loss: 0.9251 - val_accuracy: 0.6927\n",
            "Epoch 13/30\n",
            "2160/2160 [==============================] - 147s 68ms/step - loss: 0.8690 - accuracy: 0.7284 - val_loss: 0.9247 - val_accuracy: 0.6933\n",
            "Epoch 14/30\n",
            "2160/2160 [==============================] - 147s 68ms/step - loss: 0.8560 - accuracy: 0.7335 - val_loss: 0.9228 - val_accuracy: 0.6948\n",
            "Epoch 15/30\n",
            "2160/2160 [==============================] - 147s 68ms/step - loss: 0.8444 - accuracy: 0.7373 - val_loss: 0.9223 - val_accuracy: 0.6953\n",
            "Epoch 16/30\n",
            "2160/2160 [==============================] - 146s 68ms/step - loss: 0.8330 - accuracy: 0.7418 - val_loss: 0.9252 - val_accuracy: 0.6952\n",
            "Epoch 17/30\n",
            "2160/2160 [==============================] - 146s 68ms/step - loss: 0.8222 - accuracy: 0.7458 - val_loss: 0.9233 - val_accuracy: 0.6973\n",
            "Epoch 18/30\n",
            "2160/2160 [==============================] - 146s 68ms/step - loss: 0.8119 - accuracy: 0.7495 - val_loss: 0.9177 - val_accuracy: 0.6998\n",
            "Epoch 19/30\n",
            "2160/2160 [==============================] - 146s 68ms/step - loss: 0.8025 - accuracy: 0.7527 - val_loss: 0.9321 - val_accuracy: 0.6985\n",
            "Epoch 20/30\n",
            "2160/2160 [==============================] - 147s 68ms/step - loss: 0.7934 - accuracy: 0.7560 - val_loss: 0.9260 - val_accuracy: 0.6985\n",
            "Epoch 21/30\n",
            "2160/2160 [==============================] - 147s 68ms/step - loss: 0.7851 - accuracy: 0.7587 - val_loss: 0.9333 - val_accuracy: 0.6976\n",
            "Epoch 22/30\n",
            "2160/2160 [==============================] - 147s 68ms/step - loss: 0.7762 - accuracy: 0.7618 - val_loss: 0.9335 - val_accuracy: 0.6996\n",
            "Epoch 23/30\n",
            "2160/2160 [==============================] - 148s 68ms/step - loss: 0.7689 - accuracy: 0.7649 - val_loss: 0.9332 - val_accuracy: 0.7015\n",
            "Epoch 24/30\n",
            "2160/2160 [==============================] - 146s 68ms/step - loss: 0.7609 - accuracy: 0.7676 - val_loss: 0.9412 - val_accuracy: 0.7021\n",
            "Epoch 25/30\n",
            "2160/2160 [==============================] - 146s 68ms/step - loss: 0.7545 - accuracy: 0.7696 - val_loss: 0.9395 - val_accuracy: 0.6994\n",
            "Epoch 26/30\n",
            "2160/2160 [==============================] - 146s 68ms/step - loss: 0.7475 - accuracy: 0.7717 - val_loss: 0.9393 - val_accuracy: 0.7028\n",
            "Epoch 27/30\n",
            "2160/2160 [==============================] - 146s 68ms/step - loss: 0.7417 - accuracy: 0.7738 - val_loss: 0.9359 - val_accuracy: 0.7020\n",
            "Epoch 28/30\n",
            "2160/2160 [==============================] - 147s 68ms/step - loss: 0.7352 - accuracy: 0.7763 - val_loss: 0.9490 - val_accuracy: 0.7010\n",
            "Epoch 29/30\n",
            "2160/2160 [==============================] - 147s 68ms/step - loss: 0.7300 - accuracy: 0.7782 - val_loss: 0.9446 - val_accuracy: 0.7026\n",
            "Epoch 30/30\n",
            "2160/2160 [==============================] - 148s 68ms/step - loss: 0.7242 - accuracy: 0.7803 - val_loss: 0.9574 - val_accuracy: 0.7022\n"
          ]
        },
        {
          "output_type": "execute_result",
          "data": {
            "text/plain": [
              "<keras.callbacks.History at 0x7f5c00d994f0>"
            ]
          },
          "metadata": {},
          "execution_count": 14
        }
      ]
    },
    {
      "cell_type": "code",
      "source": [
        "fra_vocab = fra_vectorization.get_vocabulary()\n",
        "pol_index_lookup = dict(zip(range(len(fra_vocab)), fra_vocab))\n",
        "max_decoded_sentence_length = 20\n",
        "\n",
        "\n",
        "def decode_sequence(input_sentence):\n",
        "    tokenized_input_sentence = eng_vectorization([input_sentence])\n",
        "    decoded_sentence = \"[start]\"\n",
        "    for i in range(max_decoded_sentence_length):\n",
        "        tokenized_target_sentence = fra_vectorization([decoded_sentence])[:, :-1]\n",
        "        predictions = transformer([tokenized_input_sentence, tokenized_target_sentence])\n",
        "\n",
        "        sampled_token_index = np.argmax(predictions[0, i, :])\n",
        "        sampled_token = pol_index_lookup[sampled_token_index]\n",
        "        decoded_sentence += \" \" + sampled_token\n",
        "\n",
        "        if sampled_token == \"[end]\":\n",
        "            break\n",
        "    return decoded_sentence"
      ],
      "metadata": {
        "id": "BkrVgzDfsdnI"
      },
      "execution_count": 15,
      "outputs": []
    },
    {
      "cell_type": "code",
      "source": [
        "test_eng_texts = [pair[0] for pair in test_pairs]\n",
        "for _ in range(30):\n",
        "    input_sentence = random.choice(test_eng_texts)\n",
        "    translated = decode_sequence(input_sentence)\n",
        "    print(f'{input_sentence} => {translated}')"
      ],
      "metadata": {
        "colab": {
          "base_uri": "https://localhost:8080/"
        },
        "id": "5lWq4S6ist7A",
        "outputId": "d53286af-af18-4a3a-f459-f96c509a8fe8"
      },
      "execution_count": 16,
      "outputs": [
        {
          "output_type": "stream",
          "name": "stdout",
          "text": [
            "We're a little busy here. => [start] nous sommes un peu occupé ici [eng]      [eng]  [eng] [eng] [eng] [eng] [eng] [eng]\n",
            "How do you relax after work? => [start] comment te [UNK] après le travail [eng]      [eng]  [eng]  [eng] [eng] [eng] [eng]\n",
            "He was desperate to get married. => [start] il a été pour se marier [eng]      [eng]  [eng] [eng]  [eng] [eng] [eng]\n",
            "The government collapsed after a vote in parliament. => [start] le gouvernement [UNK] après un quil a accepté le vous [UNK] [eng]      [eng]  [eng]\n",
            "She advised him to give up drinking. => [start] elle lui a conseillé arrêtez de boire [eng]     [eng]  [eng]   [eng] [eng] [eng]\n",
            "Tom's injuries aren't considered life-threatening. => [start] les [UNK] de tom ne sont pas [UNK] comme [UNK] [UNK] [UNK] [UNK] [UNK] [eng]   [eng]  [eng]\n",
            "Crime does not pay. => [start] le la [UNK] ne sait pas [eng]      [eng]  [eng] [eng]  [eng] ne [eng]\n",
            "I told Tom to ignore it. => [start] jai dit à tom de ne pas en en en [UNK] [eng]   [eng]   [eng] [eng] [eng]\n",
            "We plan to have an old-fashioned Christmas dinner. => [start] nous avons prévu de faire un [UNK] pour noël [eng]     du  du [eng] [eng] [eng]\n",
            "No one ever believed me. => [start] personne ne me le [UNK] [eng]    [eng]  [eng] [eng]  [eng] [eng] [eng] [eng] [eng] [eng]\n",
            "Do you think it'll make a difference? => [start] pensestu que ça va faire une différence [eng]   [eng]  [eng]  [eng]  [eng] [eng] [eng] [eng]\n",
            "Close the box. => [start] ferme la boîte [eng]   [eng]  [eng]   [eng] [eng]  [eng] [eng] [eng] [eng] [eng] [eng]\n",
            "That didn't work. => [start] Ça na pas travaillé [eng]     [eng]   [eng]  [eng] [eng] [eng] [eng] [eng] [eng]\n",
            "This is the key I've been looking for. => [start] cest la clé que jai fait [eng]      [eng]  [eng]  [eng] [eng] [eng] [eng]\n",
            "I have cancer. => [start] je suis le cancer [eng]     [eng]   [eng] [eng] [eng] [eng] [eng] [eng] [eng] [eng]\n",
            "Tom doesn't have a cat. However, Tom does have a dog, doesn't he? => [start] tom na pas de chat mais tom a un chien tom ny atil pas lui [eng]    [eng]\n",
            "Let's go now. => [start] en ce moment [eng]      [eng]   [eng]  [eng] [eng] [eng] [eng] [eng] [eng]\n",
            "I just don't want you to get upset. => [start] je ne veux tout simplement pas que vous soyez [UNK] [eng]    [UNK]   [eng]  [eng]\n",
            "Who told you about me? => [start] qui ta parlé de moi [eng]     [eng] [eng] [eng]  [eng]  [eng] [eng] [eng] [eng]\n",
            "I know a lot of people who don't know how to play chess. => [start] je connais beaucoup de gens qui ne font pas jouer aux tu ne sais pas jouer aux je [eng] \n",
            "Tom went there to meet Mary. => [start] tom y est allé pour voir mary [eng]     mary  mary mary mary [eng] [eng] [eng]\n",
            "You're selfish. => [start] vous êtes satisfait [eng]     [eng]   [eng] [eng]  [eng] [eng] [eng] [eng] [eng] [eng]\n",
            "I was told to do that again. => [start] on ma dit de le faire davantage [eng]     [eng]  [eng]   [eng] [eng] [eng]\n",
            "Tom, I especially want to talk to you. => [start] tom jai pour être parlé en mesure de te parler [eng]    [eng]   [eng] [eng] [eng]\n",
            "She has no manners. => [start] elle na pas de affaires [eng]      [eng] [eng]  [eng] [eng] [eng] [eng] [eng] [eng]\n",
            "They want more space. => [start] elles veulent davantage dargent [eng]     [eng]  [eng] [eng]  [eng] [eng] [eng] [eng] [eng] [eng]\n",
            "You're a wonderful woman. => [start] vous êtes une femme [UNK] [eng]     [eng]  [eng] [eng] [eng]  [eng] [eng] [eng] [eng]\n",
            "They look cool. => [start] elles ont lair [UNK] [eng]     [eng]   [eng] [eng] [eng] [eng] [eng] [eng] [eng] [eng]\n",
            "I pretended to work. => [start] jai fait comme si jai fait le travail [eng]    [eng]  [eng]  [eng] [eng] [eng] [eng]\n",
            "Every day my dad leaves for work at eight o'clock. => [start] chaque jour mon père est parti pour travailler pour huit heures [eng]   huit   [eng] [UNK] [eng]\n"
          ]
        }
      ]
    }
  ]
}